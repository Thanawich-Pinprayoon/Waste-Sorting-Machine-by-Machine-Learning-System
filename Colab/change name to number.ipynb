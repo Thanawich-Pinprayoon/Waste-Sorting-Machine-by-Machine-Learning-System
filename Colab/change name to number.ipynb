{
 "cells": [
  {
   "cell_type": "code",
   "execution_count": 9,
   "metadata": {},
   "outputs": [],
   "source": [
    "import os"
   ]
  },
  {
   "cell_type": "code",
   "execution_count": 18,
   "metadata": {},
   "outputs": [],
   "source": [
    "os.chdir(\"D:/Downloads/Compressed/224/datasets/images\")\n"
   ]
  },
  {
   "cell_type": "code",
   "execution_count": 19,
   "metadata": {},
   "outputs": [],
   "source": [
    "folders = os.listdir(\"D:/Downloads/Compressed/224/datasets/images\")\n"
   ]
  },
  {
   "cell_type": "code",
   "execution_count": 20,
   "metadata": {},
   "outputs": [
    {
     "data": {
      "text/plain": [
       "['Aerosol_cans',\n",
       " 'Battery',\n",
       " 'book',\n",
       " 'bottle',\n",
       " 'can',\n",
       " 'carton',\n",
       " 'Cleaning_solution',\n",
       " 'Correction_fluid',\n",
       " 'Drinking_straw',\n",
       " 'Foam_box',\n",
       " 'glass',\n",
       " 'Insecticide',\n",
       " 'Light_bulb',\n",
       " 'news_paper',\n",
       " 'Paper_cup',\n",
       " 'phone',\n",
       " 'plastic_bag',\n",
       " 'Plastic_box',\n",
       " 'Snack',\n",
       " 'Three_eye_plug',\n",
       " 'Tissue']"
      ]
     },
     "execution_count": 20,
     "metadata": {},
     "output_type": "execute_result"
    }
   ],
   "source": [
    "folders\n"
   ]
  },
  {
   "cell_type": "code",
   "execution_count": 21,
   "metadata": {},
   "outputs": [],
   "source": [
    "count_images = []\n",
    "for folder in folders:\n",
    "    os.chdir(\"D:/Downloads/Compressed/224/datasets/images/\"+folder)\n",
    "    files = os.listdir()\n",
    "    images = [file for file in files if file.endswith(('jpg'))]\n",
    "    images.sort()\n",
    "    # print(len(images))\n",
    "    count_images.append(len(images))\n",
    "    for i in range(len(images)):\n",
    "        os.rename(images[i], str(i)+\".jpg\")\n"
   ]
  },
  {
   "cell_type": "code",
   "execution_count": 22,
   "metadata": {},
   "outputs": [],
   "source": [
    "os.chdir(\"D:/Downloads/Compressed/224/datasets/xml\")\n",
    "folders = os.listdir(\"D:/Downloads/Compressed/224/datasets/xml\")\n"
   ]
  },
  {
   "cell_type": "code",
   "execution_count": 23,
   "metadata": {},
   "outputs": [],
   "source": [
    "count_xmls = []\n",
    "for folder in folders:\n",
    "    os.chdir(\"D:/Downloads/Compressed/224/datasets/xml/\"+folder)\n",
    "    files = os.listdir()\n",
    "    xmls = [file for file in files if file.endswith(('xml'))]\n",
    "    xmls.sort()\n",
    "    count_xmls.append(len(xmls))\n",
    "    for i in range(len(xmls)):\n",
    "        os.rename(xmls[i], str(i)+\".xml\")\n"
   ]
  },
  {
   "cell_type": "code",
   "execution_count": 21,
   "metadata": {},
   "outputs": [
    {
     "data": {
      "text/plain": [
       "['Aerosol_cans',\n",
       " 'Battery',\n",
       " 'book',\n",
       " 'bottle',\n",
       " 'can',\n",
       " 'carton',\n",
       " 'Cleaning_solution',\n",
       " 'Correction_fluid',\n",
       " 'Drinking_straw',\n",
       " 'Foam_box',\n",
       " 'glass',\n",
       " 'Insecticide',\n",
       " 'Light_bulb',\n",
       " 'news_paper',\n",
       " 'Paper_cup',\n",
       " 'phone',\n",
       " 'plastic_bag',\n",
       " 'Plastic_box',\n",
       " 'Snack',\n",
       " 'Three_eye_plug',\n",
       " 'Tissue']"
      ]
     },
     "execution_count": 21,
     "metadata": {},
     "output_type": "execute_result"
    }
   ],
   "source": [
    "folders\n"
   ]
  },
  {
   "cell_type": "code",
   "execution_count": 24,
   "metadata": {},
   "outputs": [
    {
     "name": "stdout",
     "output_type": "stream",
     "text": [
      "556\n",
      "556\n",
      "\n",
      "547\n",
      "547\n",
      "\n",
      "202\n",
      "202\n",
      "\n",
      "775\n",
      "775\n",
      "\n",
      "1194\n",
      "1194\n",
      "\n",
      "823\n",
      "823\n",
      "\n",
      "1185\n",
      "1185\n",
      "\n",
      "804\n",
      "804\n",
      "\n",
      "866\n",
      "866\n",
      "\n",
      "1370\n",
      "1370\n",
      "\n",
      "953\n",
      "953\n",
      "\n",
      "1049\n",
      "1049\n",
      "\n",
      "966\n",
      "966\n",
      "\n",
      "858\n",
      "858\n",
      "\n",
      "1140\n",
      "1140\n",
      "\n",
      "1262\n",
      "1262\n",
      "\n",
      "896\n",
      "896\n",
      "\n",
      "969\n",
      "969\n",
      "\n",
      "1293\n",
      "1293\n",
      "\n",
      "1430\n",
      "1430\n",
      "\n",
      "1007\n",
      "1007\n",
      "\n"
     ]
    }
   ],
   "source": [
    "for i in range(len(count_images)):\n",
    "    print(count_images[i])\n",
    "    print(count_xmls[i])\n",
    "    print(\"\")\n"
   ]
  }
 ],
 "metadata": {
  "interpreter": {
   "hash": "02dd80c4b7287f3e16ced86c43aa4adbd2bf8523c6ec7913418dfb2bc69fcf95"
  },
  "kernelspec": {
   "display_name": "Python 3.7.9 64-bit",
   "language": "python",
   "name": "python3"
  },
  "language_info": {
   "codemirror_mode": {
    "name": "ipython",
    "version": 3
   },
   "file_extension": ".py",
   "mimetype": "text/x-python",
   "name": "python",
   "nbconvert_exporter": "python",
   "pygments_lexer": "ipython3",
   "version": "3.7.9"
  },
  "orig_nbformat": 4
 },
 "nbformat": 4,
 "nbformat_minor": 2
}
